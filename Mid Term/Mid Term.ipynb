{
 "cells": [
  {
   "cell_type": "code",
   "execution_count": 1,
   "id": "9011b261",
   "metadata": {},
   "outputs": [],
   "source": [
    "# Name : Atharv Sakharam Patil\n",
    "# Roll No. : 105 \n",
    "# PRN No. : UIT23M1105\n",
    "# Title : Assignment based on Numpy arrays and functions (Numpy Library)"
   ]
  },
  {
   "cell_type": "code",
   "execution_count": 2,
   "id": "897a543b",
   "metadata": {},
   "outputs": [],
   "source": [
    "import pandas as pd\n",
    "import numpy as np"
   ]
  },
  {
   "cell_type": "code",
   "execution_count": 3,
   "id": "120b7003",
   "metadata": {},
   "outputs": [
    {
     "data": {
      "text/plain": [
       "array([1, 2, 3])"
      ]
     },
     "execution_count": 3,
     "metadata": {},
     "output_type": "execute_result"
    }
   ],
   "source": [
    "arr1=np.array([1,2,3])   # 1D Array.\n",
    "arr1"
   ]
  },
  {
   "cell_type": "code",
   "execution_count": 4,
   "id": "92a807e8",
   "metadata": {},
   "outputs": [
    {
     "data": {
      "text/plain": [
       "array([[1, 2],\n",
       "       [3, 4]])"
      ]
     },
     "execution_count": 4,
     "metadata": {},
     "output_type": "execute_result"
    }
   ],
   "source": [
    "arr2=np.array([[1,2],[3,4]])   # 2D Array.\n",
    "arr2"
   ]
  },
  {
   "cell_type": "code",
   "execution_count": 5,
   "id": "77edc9a1",
   "metadata": {},
   "outputs": [
    {
     "data": {
      "text/plain": [
       "array([[0., 0.],\n",
       "       [0., 0.]])"
      ]
     },
     "execution_count": 5,
     "metadata": {},
     "output_type": "execute_result"
    }
   ],
   "source": [
    "arr3=np.zeros((2,2)) # Array filled with zeros\n",
    "arr3"
   ]
  },
  {
   "cell_type": "code",
   "execution_count": 6,
   "id": "9a4f4233",
   "metadata": {},
   "outputs": [
    {
     "data": {
      "text/plain": [
       "array([[1., 1., 1.],\n",
       "       [1., 1., 1.],\n",
       "       [1., 1., 1.]])"
      ]
     },
     "execution_count": 6,
     "metadata": {},
     "output_type": "execute_result"
    }
   ],
   "source": [
    "arr4=np.ones((3,3)) # Array filled with ones\n",
    "arr4"
   ]
  },
  {
   "cell_type": "code",
   "execution_count": 7,
   "id": "95bee052",
   "metadata": {},
   "outputs": [
    {
     "data": {
      "text/plain": [
       "array([[5, 5],\n",
       "       [5, 5]])"
      ]
     },
     "execution_count": 7,
     "metadata": {},
     "output_type": "execute_result"
    }
   ],
   "source": [
    "arr5=np.full((2,2),5) # Array filled with constant values\n",
    "arr5"
   ]
  },
  {
   "cell_type": "code",
   "execution_count": 8,
   "id": "cf826513",
   "metadata": {},
   "outputs": [
    {
     "data": {
      "text/plain": [
       "array([0, 2, 4, 6, 8])"
      ]
     },
     "execution_count": 8,
     "metadata": {},
     "output_type": "execute_result"
    }
   ],
   "source": [
    "arr6=np.arange(0,10,2) # Array with evenly spaced values.\n",
    "arr6"
   ]
  },
  {
   "cell_type": "code",
   "execution_count": 9,
   "id": "0e4f573f",
   "metadata": {},
   "outputs": [
    {
     "data": {
      "text/plain": [
       "array([0.  , 0.25, 0.5 , 0.75, 1.  ])"
      ]
     },
     "execution_count": 9,
     "metadata": {},
     "output_type": "execute_result"
    }
   ],
   "source": [
    "arr7=np.linspace(0,1,5) # Array with specific number of equally spaced values within limits\n",
    "arr7"
   ]
  },
  {
   "cell_type": "code",
   "execution_count": 10,
   "id": "1929f633",
   "metadata": {},
   "outputs": [
    {
     "name": "stdout",
     "output_type": "stream",
     "text": [
      "[[6 7]\n",
      " [8 9]]\n"
     ]
    }
   ],
   "source": [
    "print(arr2+arr5) # Array Addition"
   ]
  },
  {
   "cell_type": "code",
   "execution_count": 11,
   "id": "6a3740a4",
   "metadata": {},
   "outputs": [
    {
     "name": "stdout",
     "output_type": "stream",
     "text": [
      "[[-4 -3]\n",
      " [-2 -1]]\n"
     ]
    }
   ],
   "source": [
    "print(arr2-arr5) # Array substraction"
   ]
  },
  {
   "cell_type": "code",
   "execution_count": 12,
   "id": "71489e15",
   "metadata": {},
   "outputs": [
    {
     "name": "stdout",
     "output_type": "stream",
     "text": [
      "[[ 5 10]\n",
      " [15 20]]\n"
     ]
    }
   ],
   "source": [
    "print(arr2*arr5) # Array Multiplication"
   ]
  },
  {
   "cell_type": "code",
   "execution_count": 13,
   "id": "a856e6f4",
   "metadata": {},
   "outputs": [
    {
     "name": "stdout",
     "output_type": "stream",
     "text": [
      "[[0.2 0.4]\n",
      " [0.6 0.8]]\n"
     ]
    }
   ],
   "source": [
    "print(arr2/arr5) # Array Division"
   ]
  },
  {
   "cell_type": "code",
   "execution_count": 14,
   "id": "57094eb5",
   "metadata": {},
   "outputs": [
    {
     "name": "stdout",
     "output_type": "stream",
     "text": [
      "[[ 1  4]\n",
      " [ 9 16]]\n"
     ]
    }
   ],
   "source": [
    "print(arr2**2) # Array Power"
   ]
  },
  {
   "cell_type": "code",
   "execution_count": 15,
   "id": "1d6ffd86",
   "metadata": {},
   "outputs": [
    {
     "name": "stdout",
     "output_type": "stream",
     "text": [
      "10\n"
     ]
    }
   ],
   "source": [
    "print(np.sum(arr2)) # Sum of Elements"
   ]
  },
  {
   "cell_type": "code",
   "execution_count": 16,
   "id": "91857629",
   "metadata": {},
   "outputs": [
    {
     "name": "stdout",
     "output_type": "stream",
     "text": [
      "2.5\n"
     ]
    }
   ],
   "source": [
    "print(np.mean(arr2)) # Mean of Elements"
   ]
  },
  {
   "cell_type": "code",
   "execution_count": 17,
   "id": "a7de024c",
   "metadata": {},
   "outputs": [
    {
     "name": "stdout",
     "output_type": "stream",
     "text": [
      "2.5\n"
     ]
    }
   ],
   "source": [
    "print(np.median(arr2)) # Median of Elements"
   ]
  },
  {
   "cell_type": "code",
   "execution_count": 18,
   "id": "638cb8a1",
   "metadata": {},
   "outputs": [
    {
     "name": "stdout",
     "output_type": "stream",
     "text": [
      "1.118033988749895\n"
     ]
    }
   ],
   "source": [
    "print(np.std(arr2)) # Standard Deviation of Elements"
   ]
  },
  {
   "cell_type": "code",
   "execution_count": 19,
   "id": "a0d3030d",
   "metadata": {},
   "outputs": [
    {
     "name": "stdout",
     "output_type": "stream",
     "text": [
      "1.25\n"
     ]
    }
   ],
   "source": [
    "print(np.var(arr2)) # Variance of Elements"
   ]
  },
  {
   "cell_type": "code",
   "execution_count": 20,
   "id": "e12b641c",
   "metadata": {},
   "outputs": [
    {
     "name": "stdout",
     "output_type": "stream",
     "text": [
      "1\n"
     ]
    }
   ],
   "source": [
    "print(np.min(arr2)) # Smallest Value"
   ]
  },
  {
   "cell_type": "code",
   "execution_count": 21,
   "id": "92d29185",
   "metadata": {},
   "outputs": [
    {
     "name": "stdout",
     "output_type": "stream",
     "text": [
      "4\n"
     ]
    }
   ],
   "source": [
    "print(np.max(arr2)) # Largest Value"
   ]
  },
  {
   "cell_type": "code",
   "execution_count": 22,
   "id": "25b8383a",
   "metadata": {},
   "outputs": [
    {
     "name": "stdout",
     "output_type": "stream",
     "text": [
      "24\n"
     ]
    }
   ],
   "source": [
    "print(np.prod(arr2)) # Product of Value"
   ]
  },
  {
   "cell_type": "code",
   "execution_count": 23,
   "id": "43121231",
   "metadata": {},
   "outputs": [
    {
     "name": "stdout",
     "output_type": "stream",
     "text": [
      "[ 1  3  6 10]\n"
     ]
    }
   ],
   "source": [
    "print(np.cumsum(arr2)) # Commulative Sum"
   ]
  },
  {
   "cell_type": "code",
   "execution_count": 24,
   "id": "4d3b8eef",
   "metadata": {},
   "outputs": [
    {
     "data": {
      "text/plain": [
       "3"
      ]
     },
     "execution_count": 24,
     "metadata": {},
     "output_type": "execute_result"
    }
   ],
   "source": [
    "arr1.size  # Total No. of elements"
   ]
  },
  {
   "cell_type": "code",
   "execution_count": 25,
   "id": "c9c1c3f9",
   "metadata": {},
   "outputs": [
    {
     "data": {
      "text/plain": [
       "(3,)"
      ]
     },
     "execution_count": 25,
     "metadata": {},
     "output_type": "execute_result"
    }
   ],
   "source": [
    "arr1.shape  # Dimension as a Tuple"
   ]
  },
  {
   "cell_type": "code",
   "execution_count": 26,
   "id": "4d7f9101",
   "metadata": {},
   "outputs": [
    {
     "data": {
      "text/plain": [
       "1"
      ]
     },
     "execution_count": 26,
     "metadata": {},
     "output_type": "execute_result"
    }
   ],
   "source": [
    "arr1.ndim  # No. of Dimensions"
   ]
  },
  {
   "cell_type": "code",
   "execution_count": 27,
   "id": "c7ec30b3",
   "metadata": {},
   "outputs": [
    {
     "data": {
      "text/plain": [
       "dtype('float64')"
      ]
     },
     "execution_count": 27,
     "metadata": {},
     "output_type": "execute_result"
    }
   ],
   "source": [
    "arr3.dtype # Returns Datatype"
   ]
  },
  {
   "cell_type": "code",
   "execution_count": 28,
   "id": "0d53929a",
   "metadata": {},
   "outputs": [
    {
     "data": {
      "text/plain": [
       "8"
      ]
     },
     "execution_count": 28,
     "metadata": {},
     "output_type": "execute_result"
    }
   ],
   "source": [
    "arr1.itemsize   # Return the size in byte of each element"
   ]
  },
  {
   "cell_type": "code",
   "execution_count": 29,
   "id": "c564ffb4",
   "metadata": {},
   "outputs": [
    {
     "name": "stdout",
     "output_type": "stream",
     "text": [
      "3\n"
     ]
    }
   ],
   "source": [
    "print(arr1[2]) # Access element of specified index"
   ]
  },
  {
   "cell_type": "code",
   "execution_count": 30,
   "id": "a002a540",
   "metadata": {},
   "outputs": [
    {
     "name": "stdout",
     "output_type": "stream",
     "text": [
      "[2 3]\n"
     ]
    }
   ],
   "source": [
    "print(arr1[1:3]) # Extract a subportion i.e Subarray"
   ]
  },
  {
   "cell_type": "code",
   "execution_count": 31,
   "id": "09687399",
   "metadata": {},
   "outputs": [
    {
     "name": "stdout",
     "output_type": "stream",
     "text": [
      "3\n"
     ]
    }
   ],
   "source": [
    "print(arr1[-1]) # Access element of specified index from end"
   ]
  },
  {
   "cell_type": "code",
   "execution_count": 32,
   "id": "ed63b6e2",
   "metadata": {},
   "outputs": [
    {
     "name": "stdout",
     "output_type": "stream",
     "text": [
      "[3]\n"
     ]
    }
   ],
   "source": [
    "print(arr1[arr1>2]) # Access element based on condition"
   ]
  },
  {
   "cell_type": "code",
   "execution_count": 33,
   "id": "62e4bf10",
   "metadata": {},
   "outputs": [
    {
     "data": {
      "text/plain": [
       "array([0, 2, 4, 6, 8])"
      ]
     },
     "execution_count": 33,
     "metadata": {},
     "output_type": "execute_result"
    }
   ],
   "source": [
    "arr10=np.arange(0,10,2) # Generate values with fixed step size\n",
    "arr10"
   ]
  },
  {
   "cell_type": "code",
   "execution_count": 34,
   "id": "a274ac32",
   "metadata": {},
   "outputs": [
    {
     "data": {
      "text/plain": [
       "array([[0, 1, 2],\n",
       "       [3, 4, 5]])"
      ]
     },
     "execution_count": 34,
     "metadata": {},
     "output_type": "execute_result"
    }
   ],
   "source": [
    "arr11=np.arange(6).reshape(2,3)  # Changes the shape of array without changing data\n",
    "arr11"
   ]
  },
  {
   "cell_type": "code",
   "execution_count": 35,
   "id": "08c51161",
   "metadata": {},
   "outputs": [
    {
     "name": "stdout",
     "output_type": "stream",
     "text": [
      "5\n"
     ]
    }
   ],
   "source": [
    "print(np.argmax(arr11))  # Return the index of maximum element"
   ]
  },
  {
   "cell_type": "code",
   "execution_count": 36,
   "id": "d3eb1c85",
   "metadata": {},
   "outputs": [
    {
     "name": "stdout",
     "output_type": "stream",
     "text": [
      "0\n"
     ]
    }
   ],
   "source": [
    "print(np.argmin(arr11))  # Return the index of minimum element"
   ]
  },
  {
   "cell_type": "code",
   "execution_count": 37,
   "id": "fd26cf43",
   "metadata": {},
   "outputs": [
    {
     "name": "stdout",
     "output_type": "stream",
     "text": [
      "[[1 1]\n",
      " [1 1]]\n"
     ]
    }
   ],
   "source": [
    "print(np.diff(arr11))  # Computes Succesive Difference"
   ]
  }
 ],
 "metadata": {
  "kernelspec": {
   "display_name": "Python 3",
   "language": "python",
   "name": "python3"
  },
  "language_info": {
   "codemirror_mode": {
    "name": "ipython",
    "version": 3
   },
   "file_extension": ".py",
   "mimetype": "text/x-python",
   "name": "python",
   "nbconvert_exporter": "python",
   "pygments_lexer": "ipython3",
   "version": "3.13.5"
  }
 },
 "nbformat": 4,
 "nbformat_minor": 5
}
