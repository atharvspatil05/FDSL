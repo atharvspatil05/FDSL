{
 "cells": [
  {
   "cell_type": "markdown",
   "id": "7ce94fef",
   "metadata": {},
   "source": [
    "*Assignment No-04 :- Assignment based on calculations of the Measures of Variation (such as range, variance, and standard deviation, etc.)*"
   ]
  },
  {
   "cell_type": "markdown",
   "id": "d9c8c75a",
   "metadata": {},
   "source": [
    "*Without Using Inbuilt Functions*"
   ]
  },
  {
   "cell_type": "code",
   "execution_count": 4,
   "id": "110e010f",
   "metadata": {},
   "outputs": [],
   "source": [
    "import pandas as pd\n",
    "import numpy as np"
   ]
  },
  {
   "cell_type": "code",
   "execution_count": 5,
   "id": "f77e0518",
   "metadata": {},
   "outputs": [],
   "source": [
    "data = pd.read_csv('student_marks.csv')"
   ]
  },
  {
   "cell_type": "code",
   "execution_count": 6,
   "id": "7828fada",
   "metadata": {},
   "outputs": [
    {
     "name": "stdout",
     "output_type": "stream",
     "text": [
      "Range: 27\n"
     ]
    }
   ],
   "source": [
    "# Range\n",
    "def calc_range(data):\n",
    "    return np.max(data) - np.min(data)\n",
    "\n",
    "print (\"Range:\", calc_range(data['Marks']))"
   ]
  },
  {
   "cell_type": "code",
   "execution_count": 8,
   "id": "41e80a5e",
   "metadata": {},
   "outputs": [
    {
     "name": "stdout",
     "output_type": "stream",
     "text": [
      "Variance: 78.4\n"
     ]
    }
   ],
   "source": [
    "# Variance\n",
    "def calc_variance(data):\n",
    "    mean = sum(data) / len(data)\n",
    "    squared_diffs = [(x - mean) ** 2 for x in data]\n",
    "    variance = sum(squared_diffs) / (len(data) - 1)  # sample variance\n",
    "    return variance\n",
    "\n",
    "print (\"Variance:\", calc_variance(data['Marks']))"
   ]
  },
  {
   "cell_type": "code",
   "execution_count": null,
   "id": "e232e571",
   "metadata": {},
   "outputs": [
    {
     "name": "stdout",
     "output_type": "stream",
     "text": [
      "Standard Deviation: 8.854377448471462\n"
     ]
    }
   ],
   "source": [
    "# Standard Deviation\n",
    "def calculate_std_dev(data):\n",
    "    variance = calc_variance(data)\n",
    "    return np.sqrt(variance)\n",
    "\n",
    "print(\"Standard Deviation:\", calculate_std_dev(data['Marks']))\n"
   ]
  },
  {
   "cell_type": "code",
   "execution_count": 16,
   "id": "07ff9c42",
   "metadata": {},
   "outputs": [
    {
     "name": "stdout",
     "output_type": "stream",
     "text": [
      "\n",
      "Without Using Inbuilt Functions:\n",
      "Range: 27\n",
      "Variance: 78.4\n",
      "Standard Deviation: 8.854377448471462\n"
     ]
    }
   ],
   "source": [
    "print(\"\\nWithout Using Inbuilt Functions:\")\n",
    "print(\"Range:\", calc_range(data['Marks']))\n",
    "print(\"Variance:\", calc_variance(data['Marks']))\n",
    "print(\"Standard Deviation:\", calculate_std_dev(data['Marks']))"
   ]
  },
  {
   "cell_type": "markdown",
   "id": "1333e3d9",
   "metadata": {},
   "source": [
    "Using Inbuilt Functions"
   ]
  },
  {
   "cell_type": "code",
   "execution_count": 17,
   "id": "b1cbcb85",
   "metadata": {},
   "outputs": [
    {
     "name": "stdout",
     "output_type": "stream",
     "text": [
      "Using Inbuilt Functions:\n",
      "Range: 27\n",
      "Variance: 78.4\n",
      "Standard Deviation: 8.854377448471462\n"
     ]
    }
   ],
   "source": [
    "# Program to calculate Range, Variance, and Standard Deviation using inbuilt functions\n",
    "\n",
    "import statistics as stats\n",
    "import pandas as pd\n",
    "\n",
    "data = pd.read_csv('student_marks.csv')\n",
    "marks = data['Marks']\n",
    "\n",
    "# Range\n",
    "range_value = max(marks) - min(marks)\n",
    "\n",
    "# Variance\n",
    "variance_value = stats.variance(marks)\n",
    "\n",
    "# Standard Deviation\n",
    "std_dev_value = stats.stdev(marks)\n",
    "\n",
    "print(\"Using Inbuilt Functions:\")\n",
    "print(\"Range:\", range_value)\n",
    "print(\"Variance:\", variance_value)\n",
    "print(\"Standard Deviation:\", std_dev_value)\n"
   ]
  },
  {
   "cell_type": "code",
   "execution_count": null,
   "id": "575f0966",
   "metadata": {},
   "outputs": [],
   "source": [
    "\n"
   ]
  }
 ],
 "metadata": {
  "kernelspec": {
   "display_name": "Python 3",
   "language": "python",
   "name": "python3"
  },
  "language_info": {
   "codemirror_mode": {
    "name": "ipython",
    "version": 3
   },
   "file_extension": ".py",
   "mimetype": "text/x-python",
   "name": "python",
   "nbconvert_exporter": "python",
   "pygments_lexer": "ipython3",
   "version": "3.12.6"
  }
 },
 "nbformat": 4,
 "nbformat_minor": 5
}
