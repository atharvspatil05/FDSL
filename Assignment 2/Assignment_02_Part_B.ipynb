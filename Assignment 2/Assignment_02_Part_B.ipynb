{
 "cells": [
  {
   "cell_type": "code",
   "execution_count": null,
   "metadata": {},
   "outputs": [
    {
     "name": "stdout",
     "output_type": "stream",
     "text": [
      "   EmpID        Name  Age  Gender Department   Salary JoiningDate  \\\n",
      "0      1  Employee_1   50  Female      Sales  90000.0  2015-01-01   \n",
      "1      2  Employee_2   36    Male    Finance  62500.0  2015-01-02   \n",
      "2      3  Employee_3   29    Male    Finance  39500.0  2015-01-03   \n",
      "3      4  Employee_4   42    Male      Sales  35000.0  2015-01-04   \n",
      "4      5  Employee_5   40    Male    Finance  41500.0  2015-01-05   \n",
      "\n",
      "   PerformanceScore  WorkHours  \n",
      "0               3.0       43.0  \n",
      "1               2.0       54.0  \n",
      "2               1.0       54.0  \n",
      "3               4.0       37.0  \n",
      "4               4.0       37.0  \n"
     ]
    }
   ],
   "source": [
    "import pandas as pd\n",
    "\n",
    "# Load dataset\n",
    "df = pd.read_csv(\"D:/Academics/TY SEM 1/FDSL/Assignment 2/employee_dataset.csv\")\n",
    "\n",
    "print(df.head())\n"
   ]
  },
  {
   "cell_type": "code",
   "execution_count": 7,
   "metadata": {},
   "outputs": [
    {
     "data": {
      "text/plain": [
       "EmpID                 0\n",
       "Name                  0\n",
       "Age                   0\n",
       "Gender                0\n",
       "Department            0\n",
       "Salary                5\n",
       "JoiningDate           0\n",
       "PerformanceScore    177\n",
       "WorkHours            37\n",
       "dtype: int64"
      ]
     },
     "execution_count": 7,
     "metadata": {},
     "output_type": "execute_result"
    }
   ],
   "source": [
    "df.isnull().sum()              # check missing values"
   ]
  },
  {
   "cell_type": "code",
   "execution_count": 16,
   "metadata": {},
   "outputs": [],
   "source": [
    "df.fillna(df.mean(numeric_only=True), inplace=True)    # fill NaN with mean"
   ]
  },
  {
   "cell_type": "code",
   "execution_count": 17,
   "metadata": {},
   "outputs": [
    {
     "data": {
      "text/html": [
       "<div>\n",
       "<style scoped>\n",
       "    .dataframe tbody tr th:only-of-type {\n",
       "        vertical-align: middle;\n",
       "    }\n",
       "\n",
       "    .dataframe tbody tr th {\n",
       "        vertical-align: top;\n",
       "    }\n",
       "\n",
       "    .dataframe thead th {\n",
       "        text-align: right;\n",
       "    }\n",
       "</style>\n",
       "<table border=\"1\" class=\"dataframe\">\n",
       "  <thead>\n",
       "    <tr style=\"text-align: right;\">\n",
       "      <th></th>\n",
       "      <th>EmpID</th>\n",
       "      <th>Name</th>\n",
       "      <th>Age</th>\n",
       "      <th>Gender</th>\n",
       "      <th>Department</th>\n",
       "      <th>Salary</th>\n",
       "      <th>JoiningDate</th>\n",
       "      <th>PerformanceScore</th>\n",
       "      <th>WorkHours</th>\n",
       "    </tr>\n",
       "  </thead>\n",
       "  <tbody>\n",
       "    <tr>\n",
       "      <th>0</th>\n",
       "      <td>1</td>\n",
       "      <td>Employee_1</td>\n",
       "      <td>50</td>\n",
       "      <td>Female</td>\n",
       "      <td>Sales</td>\n",
       "      <td>90000.0</td>\n",
       "      <td>2015-01-01</td>\n",
       "      <td>3.0</td>\n",
       "      <td>43.0</td>\n",
       "    </tr>\n",
       "    <tr>\n",
       "      <th>1</th>\n",
       "      <td>2</td>\n",
       "      <td>Employee_2</td>\n",
       "      <td>36</td>\n",
       "      <td>Male</td>\n",
       "      <td>Finance</td>\n",
       "      <td>62500.0</td>\n",
       "      <td>2015-01-02</td>\n",
       "      <td>2.0</td>\n",
       "      <td>54.0</td>\n",
       "    </tr>\n",
       "    <tr>\n",
       "      <th>2</th>\n",
       "      <td>3</td>\n",
       "      <td>Employee_3</td>\n",
       "      <td>29</td>\n",
       "      <td>Male</td>\n",
       "      <td>Finance</td>\n",
       "      <td>39500.0</td>\n",
       "      <td>2015-01-03</td>\n",
       "      <td>1.0</td>\n",
       "      <td>54.0</td>\n",
       "    </tr>\n",
       "    <tr>\n",
       "      <th>3</th>\n",
       "      <td>4</td>\n",
       "      <td>Employee_4</td>\n",
       "      <td>42</td>\n",
       "      <td>Male</td>\n",
       "      <td>Sales</td>\n",
       "      <td>35000.0</td>\n",
       "      <td>2015-01-04</td>\n",
       "      <td>4.0</td>\n",
       "      <td>37.0</td>\n",
       "    </tr>\n",
       "    <tr>\n",
       "      <th>4</th>\n",
       "      <td>5</td>\n",
       "      <td>Employee_5</td>\n",
       "      <td>40</td>\n",
       "      <td>Male</td>\n",
       "      <td>Finance</td>\n",
       "      <td>41500.0</td>\n",
       "      <td>2015-01-05</td>\n",
       "      <td>4.0</td>\n",
       "      <td>37.0</td>\n",
       "    </tr>\n",
       "    <tr>\n",
       "      <th>...</th>\n",
       "      <td>...</td>\n",
       "      <td>...</td>\n",
       "      <td>...</td>\n",
       "      <td>...</td>\n",
       "      <td>...</td>\n",
       "      <td>...</td>\n",
       "      <td>...</td>\n",
       "      <td>...</td>\n",
       "      <td>...</td>\n",
       "    </tr>\n",
       "    <tr>\n",
       "      <th>995</th>\n",
       "      <td>996</td>\n",
       "      <td>Employee_996</td>\n",
       "      <td>34</td>\n",
       "      <td>Female</td>\n",
       "      <td>HR</td>\n",
       "      <td>31000.0</td>\n",
       "      <td>2017-09-22</td>\n",
       "      <td>2.0</td>\n",
       "      <td>36.0</td>\n",
       "    </tr>\n",
       "    <tr>\n",
       "      <th>996</th>\n",
       "      <td>997</td>\n",
       "      <td>Employee_997</td>\n",
       "      <td>51</td>\n",
       "      <td>Female</td>\n",
       "      <td>IT</td>\n",
       "      <td>56500.0</td>\n",
       "      <td>2017-09-23</td>\n",
       "      <td>1.0</td>\n",
       "      <td>44.0</td>\n",
       "    </tr>\n",
       "    <tr>\n",
       "      <th>997</th>\n",
       "      <td>998</td>\n",
       "      <td>Employee_998</td>\n",
       "      <td>44</td>\n",
       "      <td>Male</td>\n",
       "      <td>Finance</td>\n",
       "      <td>98000.0</td>\n",
       "      <td>2017-09-24</td>\n",
       "      <td>4.0</td>\n",
       "      <td>51.0</td>\n",
       "    </tr>\n",
       "    <tr>\n",
       "      <th>998</th>\n",
       "      <td>999</td>\n",
       "      <td>Employee_999</td>\n",
       "      <td>40</td>\n",
       "      <td>Female</td>\n",
       "      <td>Sales</td>\n",
       "      <td>64500.0</td>\n",
       "      <td>2017-09-25</td>\n",
       "      <td>1.0</td>\n",
       "      <td>53.0</td>\n",
       "    </tr>\n",
       "    <tr>\n",
       "      <th>999</th>\n",
       "      <td>1000</td>\n",
       "      <td>Employee_1000</td>\n",
       "      <td>53</td>\n",
       "      <td>Female</td>\n",
       "      <td>Sales</td>\n",
       "      <td>86000.0</td>\n",
       "      <td>2017-09-26</td>\n",
       "      <td>5.0</td>\n",
       "      <td>40.0</td>\n",
       "    </tr>\n",
       "  </tbody>\n",
       "</table>\n",
       "<p>1000 rows × 9 columns</p>\n",
       "</div>"
      ],
      "text/plain": [
       "     EmpID           Name  Age  Gender Department   Salary JoiningDate  \\\n",
       "0        1     Employee_1   50  Female      Sales  90000.0  2015-01-01   \n",
       "1        2     Employee_2   36    Male    Finance  62500.0  2015-01-02   \n",
       "2        3     Employee_3   29    Male    Finance  39500.0  2015-01-03   \n",
       "3        4     Employee_4   42    Male      Sales  35000.0  2015-01-04   \n",
       "4        5     Employee_5   40    Male    Finance  41500.0  2015-01-05   \n",
       "..     ...            ...  ...     ...        ...      ...         ...   \n",
       "995    996   Employee_996   34  Female         HR  31000.0  2017-09-22   \n",
       "996    997   Employee_997   51  Female         IT  56500.0  2017-09-23   \n",
       "997    998   Employee_998   44    Male    Finance  98000.0  2017-09-24   \n",
       "998    999   Employee_999   40  Female      Sales  64500.0  2017-09-25   \n",
       "999   1000  Employee_1000   53  Female      Sales  86000.0  2017-09-26   \n",
       "\n",
       "     PerformanceScore  WorkHours  \n",
       "0                 3.0       43.0  \n",
       "1                 2.0       54.0  \n",
       "2                 1.0       54.0  \n",
       "3                 4.0       37.0  \n",
       "4                 4.0       37.0  \n",
       "..                ...        ...  \n",
       "995               2.0       36.0  \n",
       "996               1.0       44.0  \n",
       "997               4.0       51.0  \n",
       "998               1.0       53.0  \n",
       "999               5.0       40.0  \n",
       "\n",
       "[1000 rows x 9 columns]"
      ]
     },
     "execution_count": 17,
     "metadata": {},
     "output_type": "execute_result"
    }
   ],
   "source": [
    "df.dropna()                    # drop rows with NaN"
   ]
  },
  {
   "cell_type": "code",
   "execution_count": 18,
   "metadata": {},
   "outputs": [
    {
     "data": {
      "text/plain": [
       "EmpID               0\n",
       "Name                0\n",
       "Age                 0\n",
       "Gender              0\n",
       "Department          0\n",
       "Salary              0\n",
       "JoiningDate         0\n",
       "PerformanceScore    0\n",
       "WorkHours           0\n",
       "dtype: int64"
      ]
     },
     "execution_count": 18,
     "metadata": {},
     "output_type": "execute_result"
    }
   ],
   "source": [
    "df.isnull().sum()              # check missing values"
   ]
  },
  {
   "cell_type": "code",
   "execution_count": 19,
   "metadata": {},
   "outputs": [],
   "source": [
    "df.fillna(0, inplace=True)     # fill NaN with 0"
   ]
  },
  {
   "cell_type": "code",
   "execution_count": 21,
   "metadata": {},
   "outputs": [],
   "source": [
    "df.fillna(df.mean(numeric_only=True), inplace=True)    # fill NaN with mean"
   ]
  },
  {
   "cell_type": "code",
   "execution_count": 23,
   "metadata": {},
   "outputs": [
    {
     "data": {
      "text/plain": [
       "np.int64(0)"
      ]
     },
     "execution_count": 23,
     "metadata": {},
     "output_type": "execute_result"
    }
   ],
   "source": [
    "df.duplicated().sum()          # check duplicates"
   ]
  },
  {
   "cell_type": "code",
   "execution_count": 24,
   "metadata": {},
   "outputs": [],
   "source": [
    "df.drop_duplicates(inplace=True)  # remove duplicates"
   ]
  },
  {
   "cell_type": "code",
   "execution_count": 28,
   "metadata": {},
   "outputs": [
    {
     "name": "stdout",
     "output_type": "stream",
     "text": [
      "Before:\n",
      "   Name  Score\n",
      "0    A   90.0\n",
      "1    B    NaN\n",
      "2    C   75.0\n",
      "3    D    NaN\n",
      "\n",
      "After Filling NaN:\n",
      "   Name  Score\n",
      "0    A   90.0\n",
      "1    B   82.5\n",
      "2    C   75.0\n",
      "3    D   82.5\n"
     ]
    }
   ],
   "source": [
    "data = {\n",
    "    'Name': ['A', 'B', 'C', 'D'],\n",
    "    'Score': [90, None, 75, None]\n",
    "}\n",
    "\n",
    "df2 = pd.DataFrame(data)\n",
    "print(\"Before:\\n\", df2)\n",
    "\n",
    "df2['Score'] = df2['Score'].fillna(df2['Score'].mean())\n",
    "print(\"\\nAfter Filling NaN:\\n\", df2)"
   ]
  },
  {
   "cell_type": "code",
   "execution_count": 29,
   "metadata": {},
   "outputs": [
    {
     "name": "stdout",
     "output_type": "stream",
     "text": [
      "Class\n",
      "X    90.0\n",
      "Y    83.0\n",
      "Name: Marks, dtype: float64\n"
     ]
    }
   ],
   "source": [
    "data = {\n",
    "    'Name': ['A', 'B', 'C', 'D', 'E'],\n",
    "    'Class': ['X', 'X', 'Y', 'Y', 'X'],\n",
    "    'Marks': [85, 90, 78, 88, 95]\n",
    "}\n",
    "\n",
    "df3 = pd.DataFrame(data)\n",
    "print(df3.groupby('Class')['Marks'].mean())\n"
   ]
  },
  {
   "cell_type": "code",
   "execution_count": 31,
   "metadata": {},
   "outputs": [
    {
     "data": {
      "text/plain": [
       "Department\n",
       "Finance      62483.173077\n",
       "HR           64678.213055\n",
       "IT           59035.502959\n",
       "Marketing    63694.335313\n",
       "Sales        62329.769926\n",
       "Name: Salary, dtype: float64"
      ]
     },
     "execution_count": 31,
     "metadata": {},
     "output_type": "execute_result"
    }
   ],
   "source": [
    "df.groupby('Department')['Salary'].mean()\n"
   ]
  },
  {
   "cell_type": "code",
   "execution_count": 32,
   "metadata": {},
   "outputs": [
    {
     "data": {
      "text/html": [
       "<div>\n",
       "<style scoped>\n",
       "    .dataframe tbody tr th:only-of-type {\n",
       "        vertical-align: middle;\n",
       "    }\n",
       "\n",
       "    .dataframe tbody tr th {\n",
       "        vertical-align: top;\n",
       "    }\n",
       "\n",
       "    .dataframe thead th {\n",
       "        text-align: right;\n",
       "    }\n",
       "</style>\n",
       "<table border=\"1\" class=\"dataframe\">\n",
       "  <thead>\n",
       "    <tr style=\"text-align: right;\">\n",
       "      <th></th>\n",
       "      <th>mean</th>\n",
       "      <th>max</th>\n",
       "      <th>min</th>\n",
       "      <th>count</th>\n",
       "    </tr>\n",
       "    <tr>\n",
       "      <th>Department</th>\n",
       "      <th></th>\n",
       "      <th></th>\n",
       "      <th></th>\n",
       "      <th></th>\n",
       "    </tr>\n",
       "  </thead>\n",
       "  <tbody>\n",
       "    <tr>\n",
       "      <th>Finance</th>\n",
       "      <td>41.149038</td>\n",
       "      <td>59</td>\n",
       "      <td>22</td>\n",
       "      <td>208</td>\n",
       "    </tr>\n",
       "    <tr>\n",
       "      <th>HR</th>\n",
       "      <td>41.246073</td>\n",
       "      <td>59</td>\n",
       "      <td>22</td>\n",
       "      <td>191</td>\n",
       "    </tr>\n",
       "    <tr>\n",
       "      <th>IT</th>\n",
       "      <td>41.142012</td>\n",
       "      <td>59</td>\n",
       "      <td>22</td>\n",
       "      <td>169</td>\n",
       "    </tr>\n",
       "    <tr>\n",
       "      <th>Marketing</th>\n",
       "      <td>40.071770</td>\n",
       "      <td>59</td>\n",
       "      <td>22</td>\n",
       "      <td>209</td>\n",
       "    </tr>\n",
       "    <tr>\n",
       "      <th>Sales</th>\n",
       "      <td>41.174888</td>\n",
       "      <td>59</td>\n",
       "      <td>22</td>\n",
       "      <td>223</td>\n",
       "    </tr>\n",
       "  </tbody>\n",
       "</table>\n",
       "</div>"
      ],
      "text/plain": [
       "                 mean  max  min  count\n",
       "Department                            \n",
       "Finance     41.149038   59   22    208\n",
       "HR          41.246073   59   22    191\n",
       "IT          41.142012   59   22    169\n",
       "Marketing   40.071770   59   22    209\n",
       "Sales       41.174888   59   22    223"
      ]
     },
     "execution_count": 32,
     "metadata": {},
     "output_type": "execute_result"
    }
   ],
   "source": [
    "df.groupby('Department')['Age'].agg(['mean','max','min','count'])\n"
   ]
  },
  {
   "cell_type": "code",
   "execution_count": 33,
   "metadata": {},
   "outputs": [
    {
     "data": {
      "text/plain": [
       "Department  Gender\n",
       "Finance     Female    45.702766\n",
       "            Male      44.183232\n",
       "HR          Female    44.039099\n",
       "            Male      46.803944\n",
       "IT          Female    46.646512\n",
       "            Male      46.403882\n",
       "Marketing   Female    44.595900\n",
       "            Male      44.122349\n",
       "Sales       Female    45.436545\n",
       "            Male      44.550195\n",
       "Name: WorkHours, dtype: float64"
      ]
     },
     "execution_count": 33,
     "metadata": {},
     "output_type": "execute_result"
    }
   ],
   "source": [
    "#group by multiple columns\n",
    "df.groupby(['Department','Gender'])['WorkHours'].mean()\n"
   ]
  },
  {
   "cell_type": "code",
   "execution_count": 38,
   "metadata": {},
   "outputs": [
    {
     "data": {
      "text/plain": [
       "<Axes: ylabel='Frequency'>"
      ]
     },
     "execution_count": 38,
     "metadata": {},
     "output_type": "execute_result"
    },
    {
     "data": {
      "image/png": "[encoded data removed]",
      "text/plain": [
       "<Figure size 640x480 with 1 Axes>"
      ]
     },
     "metadata": {},
     "output_type": "display_data"
    }
   ],
   "source": [
    "df['WorkHours'].plot(kind='hist')     # histogram\n"
   ]
  },
  {
   "cell_type": "code",
   "execution_count": 36,
   "metadata": {},
   "outputs": [
    {
     "data": {
      "text/plain": [
       "<Axes: xlabel='Department', ylabel='Salary'>"
      ]
     },
     "execution_count": 36,
     "metadata": {},
     "output_type": "execute_result"
    },
    {
     "data": {
      "image/png": "[encoded data removed]",
      "text/plain": [
       "<Figure size 640x480 with 1 Axes>"
      ]
     },
     "metadata": {},
     "output_type": "display_data"
    }
   ],
   "source": [
    "# Step 1: Group by Department and calculate mean salary\n",
    "mean_salary = df.groupby('Department')['Salary'].mean().reset_index()\n",
    "\n",
    "# Step 2: Plot\n",
    "mean_salary.plot(x='Department', y='Salary', kind='scatter')\n"
   ]
  },
  {
   "cell_type": "code",
   "execution_count": 39,
   "metadata": {},
   "outputs": [
    {
     "data": {
      "text/plain": [
       "<Axes: >"
      ]
     },
     "execution_count": 39,
     "metadata": {},
     "output_type": "execute_result"
    },
    {
     "data": {
      "image/png": "[encoded data removed]",
      "text/plain": [
       "<Figure size 640x480 with 1 Axes>"
      ]
     },
     "metadata": {},
     "output_type": "display_data"
    }
   ],
   "source": [
    "df['Salary'].plot(kind='box')      # boxplot\n"
   ]
  }
 ],
 "metadata": {
  "kernelspec": {
   "display_name": "Python 3",
   "language": "python",
   "name": "python3"
  },
  "language_info": {
   "codemirror_mode": {
    "name": "ipython",
    "version": 3
   },
   "file_extension": ".py",
   "mimetype": "text/x-python",
   "name": "python",
   "nbconvert_exporter": "python",
   "pygments_lexer": "ipython3",
   "version": "3.13.5"
  },
  "orig_nbformat": 4
 },
 "nbformat": 4,
 "nbformat_minor": 2
}
